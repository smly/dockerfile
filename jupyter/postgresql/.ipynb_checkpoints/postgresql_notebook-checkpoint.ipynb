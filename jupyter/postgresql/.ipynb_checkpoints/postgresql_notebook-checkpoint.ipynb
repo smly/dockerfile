{
 "cells": [
  {
   "cell_type": "markdown",
   "metadata": {},
   "source": [
    "Preparation for postgresql:\n",
    "\n",
    "```\n",
    "$ initdb pg -E utf8\n",
    "$ postgres -D pg\n",
    "$ createdb avito2\n",
    "$ pgsql avito2 < import.sql\n",
    "```\n",
    "\n",
    "Here is the import query:\n",
    "\n",
    "```\n",
    "CREATE TABLE location(locationID int, regionID int);\n",
    "CREATE TABLE ItemPairs_train(itemID_1 int, itemID_2 int, isDuplicate int, generationMethod int);\n",
    "CREATE TABLE ItemPairs_test(id int, itemID_1 int, itemID_2 int);\n",
    "\n",
    "COPY location(locationID,regionID) FROM '/mnt/avito_dup/input/Location.csv' CSV HEADER;\n",
    "COPY ItemPairs_train(itemID_1, itemID_2, isDuplicate, generationMethod) FROM '/mnt/avito_dup/input/ItemPairs_train.csv' CSV HEADER;\n",
    "COPY ItemPairs_test(id, itemID_1, itemID_2) FROM '/mnt/avito_dup/input/ItemPairs_test.csv' CSV HEADER;\n",
    "```"
   ]
  },
  {
   "cell_type": "code",
   "execution_count": 4,
   "metadata": {
    "collapsed": false
   },
   "outputs": [
    {
     "data": {
      "text/html": [
       "<div>\n",
       "<table border=\"1\" class=\"dataframe\">\n",
       "  <thead>\n",
       "    <tr style=\"text-align: right;\">\n",
       "      <th></th>\n",
       "      <th>locationid</th>\n",
       "      <th>regionid</th>\n",
       "    </tr>\n",
       "  </thead>\n",
       "  <tbody>\n",
       "    <tr>\n",
       "      <th>0</th>\n",
       "      <td>621551</td>\n",
       "      <td>621550</td>\n",
       "    </tr>\n",
       "    <tr>\n",
       "      <th>1</th>\n",
       "      <td>621552</td>\n",
       "      <td>621550</td>\n",
       "    </tr>\n",
       "    <tr>\n",
       "      <th>2</th>\n",
       "      <td>621553</td>\n",
       "      <td>621550</td>\n",
       "    </tr>\n",
       "    <tr>\n",
       "      <th>3</th>\n",
       "      <td>621554</td>\n",
       "      <td>621550</td>\n",
       "    </tr>\n",
       "    <tr>\n",
       "      <th>4</th>\n",
       "      <td>621555</td>\n",
       "      <td>621550</td>\n",
       "    </tr>\n",
       "  </tbody>\n",
       "</table>\n",
       "</div>"
      ],
      "text/plain": [
       "   locationid  regionid\n",
       "0      621551    621550\n",
       "1      621552    621550\n",
       "2      621553    621550\n",
       "3      621554    621550\n",
       "4      621555    621550"
      ]
     },
     "execution_count": 4,
     "metadata": {},
     "output_type": "execute_result"
    }
   ],
   "source": [
    "import psycopg2 as pg\n",
    "import pandas as pd\n",
    "\n",
    "\n",
    "with pg.connect(database='avito2') as conn:\n",
    "    df = pd.read_sql('SELECT * FROM location', conn)\n",
    "\n",
    "df.head(5)"
   ]
  }
 ],
 "metadata": {
  "kernelspec": {
   "display_name": "Python 2",
   "language": "python",
   "name": "python2"
  },
  "language_info": {
   "codemirror_mode": {
    "name": "ipython",
    "version": 2
   },
   "file_extension": ".py",
   "mimetype": "text/x-python",
   "name": "python",
   "nbconvert_exporter": "python",
   "pygments_lexer": "ipython2",
   "version": "2.7.11"
  }
 },
 "nbformat": 4,
 "nbformat_minor": 0
}
