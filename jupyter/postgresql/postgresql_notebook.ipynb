{
 "cells": [
  {
   "cell_type": "markdown",
   "metadata": {},
   "source": [
    "Preparation for postgresql:\n",
    "\n",
    "```\n",
    "$ initdb pg -E utf8\n",
    "$ postgres -D pg\n",
    "$ createdb avito2\n",
    "$ pgsql avito2 < import.sql\n",
    "```\n",
    "\n",
    "Here is the import query:\n",
    "\n",
    "```\n",
    "CREATE TABLE location(locationID int, regionID int);\n",
    "CREATE TABLE ItemPairs_train(itemID_1 int, itemID_2 int, isDuplicate int, generationMethod int);\n",
    "CREATE TABLE ItemPairs_test(id int, itemID_1 int, itemID_2 int);\n",
    "\n",
    "COPY location(locationID,regionID) FROM '/mnt/avito_dup/input/Location.csv' CSV HEADER;\n",
    "COPY ItemPairs_train(itemID_1, itemID_2, isDuplicate, generationMethod) FROM '/mnt/avito_dup/input/ItemPairs_train.csv' CSV HEADER;\n",
    "COPY ItemPairs_test(id, itemID_1, itemID_2) FROM '/mnt/avito_dup/input/ItemPairs_test.csv' CSV HEADER;\n",
    "```"
   ]
  },
  {
   "cell_type": "code",
   "execution_count": 8,
   "metadata": {
    "collapsed": false
   },
   "outputs": [
    {
     "data": {
      "image/png": "[encoded data removed]",
      "text/plain": [
       "<matplotlib.figure.Figure at 0x7f0a806bc490>"
      ]
     },
     "metadata": {},
     "output_type": "display_data"
    }
   ],
   "source": [
    "%matplotlib inline\n",
    "\n",
    "import psycopg2 as pg\n",
    "import pandas as pd\n",
    "import matplotlib.pyplot as plt\n",
    "\n",
    "\n",
    "with pg.connect(database='avito2') as conn:\n",
    "    sql = 'SELECT itemid_2, count(1) AS freq FROM itempairs_train GROUP BY itemid_2 ORDER BY freq DESC'\n",
    "    df = pd.read_sql(sql, conn)\n",
    "\n",
    "_ = plt.hist(df.freq, bins=df.freq.max())"
   ]
  }
 ],
 "metadata": {
  "kernelspec": {
   "display_name": "Python 2",
   "language": "python",
   "name": "python2"
  },
  "language_info": {
   "codemirror_mode": {
    "name": "ipython",
    "version": 2
   },
   "file_extension": ".py",
   "mimetype": "text/x-python",
   "name": "python",
   "nbconvert_exporter": "python",
   "pygments_lexer": "ipython2",
   "version": "2.7.11"
  }
 },
 "nbformat": 4,
 "nbformat_minor": 0
}
